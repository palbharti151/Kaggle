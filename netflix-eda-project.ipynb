{
 "cells": [
  {
   "cell_type": "markdown",
   "id": "e8f1721b",
   "metadata": {
    "papermill": {
     "duration": 0.00736,
     "end_time": "2023-05-23T14:46:19.189366",
     "exception": false,
     "start_time": "2023-05-23T14:46:19.182006",
     "status": "completed"
    },
    "tags": []
   },
   "source": [
    "**Importing Library**"
   ]
  },
  {
   "cell_type": "code",
   "execution_count": 1,
   "id": "5fa34177",
   "metadata": {
    "execution": {
     "iopub.execute_input": "2023-05-23T14:46:19.205418Z",
     "iopub.status.busy": "2023-05-23T14:46:19.204915Z",
     "iopub.status.idle": "2023-05-23T14:46:20.684290Z",
     "shell.execute_reply": "2023-05-23T14:46:20.683257Z"
    },
    "papermill": {
     "duration": 1.490638,
     "end_time": "2023-05-23T14:46:20.687071",
     "exception": false,
     "start_time": "2023-05-23T14:46:19.196433",
     "status": "completed"
    },
    "tags": []
   },
   "outputs": [
    {
     "name": "stderr",
     "output_type": "stream",
     "text": [
      "/opt/conda/lib/python3.10/site-packages/scipy/__init__.py:146: UserWarning: A NumPy version >=1.16.5 and <1.23.0 is required for this version of SciPy (detected version 1.23.5\n",
      "  warnings.warn(f\"A NumPy version >={np_minversion} and <{np_maxversion}\"\n"
     ]
    }
   ],
   "source": [
    "import pandas as pd\n",
    "import matplotlib.pyplot as plt\n",
    "import seaborn as sns\n"
   ]
  },
  {
   "cell_type": "markdown",
   "id": "c9c88628",
   "metadata": {
    "papermill": {
     "duration": 0.006657,
     "end_time": "2023-05-23T14:46:20.700993",
     "exception": false,
     "start_time": "2023-05-23T14:46:20.694336",
     "status": "completed"
    },
    "tags": []
   },
   "source": [
    "**Dataset**"
   ]
  },
  {
   "cell_type": "code",
   "execution_count": 2,
   "id": "01183177",
   "metadata": {
    "execution": {
     "iopub.execute_input": "2023-05-23T14:46:20.716796Z",
     "iopub.status.busy": "2023-05-23T14:46:20.716125Z",
     "iopub.status.idle": "2023-05-23T14:46:20.917831Z",
     "shell.execute_reply": "2023-05-23T14:46:20.916562Z"
    },
    "papermill": {
     "duration": 0.212629,
     "end_time": "2023-05-23T14:46:20.920446",
     "exception": false,
     "start_time": "2023-05-23T14:46:20.707817",
     "status": "completed"
    },
    "tags": []
   },
   "outputs": [
    {
     "data": {
      "text/html": [
       "<div>\n",
       "<style scoped>\n",
       "    .dataframe tbody tr th:only-of-type {\n",
       "        vertical-align: middle;\n",
       "    }\n",
       "\n",
       "    .dataframe tbody tr th {\n",
       "        vertical-align: top;\n",
       "    }\n",
       "\n",
       "    .dataframe thead th {\n",
       "        text-align: right;\n",
       "    }\n",
       "</style>\n",
       "<table border=\"1\" class=\"dataframe\">\n",
       "  <thead>\n",
       "    <tr style=\"text-align: right;\">\n",
       "      <th></th>\n",
       "      <th>show_id</th>\n",
       "      <th>type</th>\n",
       "      <th>title</th>\n",
       "      <th>director</th>\n",
       "      <th>cast</th>\n",
       "      <th>country</th>\n",
       "      <th>date_added</th>\n",
       "      <th>release_year</th>\n",
       "      <th>rating</th>\n",
       "      <th>duration</th>\n",
       "      <th>listed_in</th>\n",
       "      <th>description</th>\n",
       "    </tr>\n",
       "  </thead>\n",
       "  <tbody>\n",
       "    <tr>\n",
       "      <th>0</th>\n",
       "      <td>s1</td>\n",
       "      <td>Movie</td>\n",
       "      <td>Dick Johnson Is Dead</td>\n",
       "      <td>Kirsten Johnson</td>\n",
       "      <td>NaN</td>\n",
       "      <td>United States</td>\n",
       "      <td>September 25, 2021</td>\n",
       "      <td>2020</td>\n",
       "      <td>PG-13</td>\n",
       "      <td>90 min</td>\n",
       "      <td>Documentaries</td>\n",
       "      <td>As her father nears the end of his life, filmm...</td>\n",
       "    </tr>\n",
       "    <tr>\n",
       "      <th>1</th>\n",
       "      <td>s2</td>\n",
       "      <td>TV Show</td>\n",
       "      <td>Blood &amp; Water</td>\n",
       "      <td>NaN</td>\n",
       "      <td>Ama Qamata, Khosi Ngema, Gail Mabalane, Thaban...</td>\n",
       "      <td>South Africa</td>\n",
       "      <td>September 24, 2021</td>\n",
       "      <td>2021</td>\n",
       "      <td>TV-MA</td>\n",
       "      <td>2 Seasons</td>\n",
       "      <td>International TV Shows, TV Dramas, TV Mysteries</td>\n",
       "      <td>After crossing paths at a party, a Cape Town t...</td>\n",
       "    </tr>\n",
       "    <tr>\n",
       "      <th>2</th>\n",
       "      <td>s3</td>\n",
       "      <td>TV Show</td>\n",
       "      <td>Ganglands</td>\n",
       "      <td>Julien Leclercq</td>\n",
       "      <td>Sami Bouajila, Tracy Gotoas, Samuel Jouy, Nabi...</td>\n",
       "      <td>NaN</td>\n",
       "      <td>September 24, 2021</td>\n",
       "      <td>2021</td>\n",
       "      <td>TV-MA</td>\n",
       "      <td>1 Season</td>\n",
       "      <td>Crime TV Shows, International TV Shows, TV Act...</td>\n",
       "      <td>To protect his family from a powerful drug lor...</td>\n",
       "    </tr>\n",
       "    <tr>\n",
       "      <th>3</th>\n",
       "      <td>s4</td>\n",
       "      <td>TV Show</td>\n",
       "      <td>Jailbirds New Orleans</td>\n",
       "      <td>NaN</td>\n",
       "      <td>NaN</td>\n",
       "      <td>NaN</td>\n",
       "      <td>September 24, 2021</td>\n",
       "      <td>2021</td>\n",
       "      <td>TV-MA</td>\n",
       "      <td>1 Season</td>\n",
       "      <td>Docuseries, Reality TV</td>\n",
       "      <td>Feuds, flirtations and toilet talk go down amo...</td>\n",
       "    </tr>\n",
       "    <tr>\n",
       "      <th>4</th>\n",
       "      <td>s5</td>\n",
       "      <td>TV Show</td>\n",
       "      <td>Kota Factory</td>\n",
       "      <td>NaN</td>\n",
       "      <td>Mayur More, Jitendra Kumar, Ranjan Raj, Alam K...</td>\n",
       "      <td>India</td>\n",
       "      <td>September 24, 2021</td>\n",
       "      <td>2021</td>\n",
       "      <td>TV-MA</td>\n",
       "      <td>2 Seasons</td>\n",
       "      <td>International TV Shows, Romantic TV Shows, TV ...</td>\n",
       "      <td>In a city of coaching centers known to train I...</td>\n",
       "    </tr>\n",
       "    <tr>\n",
       "      <th>...</th>\n",
       "      <td>...</td>\n",
       "      <td>...</td>\n",
       "      <td>...</td>\n",
       "      <td>...</td>\n",
       "      <td>...</td>\n",
       "      <td>...</td>\n",
       "      <td>...</td>\n",
       "      <td>...</td>\n",
       "      <td>...</td>\n",
       "      <td>...</td>\n",
       "      <td>...</td>\n",
       "      <td>...</td>\n",
       "    </tr>\n",
       "    <tr>\n",
       "      <th>8802</th>\n",
       "      <td>s8803</td>\n",
       "      <td>Movie</td>\n",
       "      <td>Zodiac</td>\n",
       "      <td>David Fincher</td>\n",
       "      <td>Mark Ruffalo, Jake Gyllenhaal, Robert Downey J...</td>\n",
       "      <td>United States</td>\n",
       "      <td>November 20, 2019</td>\n",
       "      <td>2007</td>\n",
       "      <td>R</td>\n",
       "      <td>158 min</td>\n",
       "      <td>Cult Movies, Dramas, Thrillers</td>\n",
       "      <td>A political cartoonist, a crime reporter and a...</td>\n",
       "    </tr>\n",
       "    <tr>\n",
       "      <th>8803</th>\n",
       "      <td>s8804</td>\n",
       "      <td>TV Show</td>\n",
       "      <td>Zombie Dumb</td>\n",
       "      <td>NaN</td>\n",
       "      <td>NaN</td>\n",
       "      <td>NaN</td>\n",
       "      <td>July 1, 2019</td>\n",
       "      <td>2018</td>\n",
       "      <td>TV-Y7</td>\n",
       "      <td>2 Seasons</td>\n",
       "      <td>Kids' TV, Korean TV Shows, TV Comedies</td>\n",
       "      <td>While living alone in a spooky town, a young g...</td>\n",
       "    </tr>\n",
       "    <tr>\n",
       "      <th>8804</th>\n",
       "      <td>s8805</td>\n",
       "      <td>Movie</td>\n",
       "      <td>Zombieland</td>\n",
       "      <td>Ruben Fleischer</td>\n",
       "      <td>Jesse Eisenberg, Woody Harrelson, Emma Stone, ...</td>\n",
       "      <td>United States</td>\n",
       "      <td>November 1, 2019</td>\n",
       "      <td>2009</td>\n",
       "      <td>R</td>\n",
       "      <td>88 min</td>\n",
       "      <td>Comedies, Horror Movies</td>\n",
       "      <td>Looking to survive in a world taken over by zo...</td>\n",
       "    </tr>\n",
       "    <tr>\n",
       "      <th>8805</th>\n",
       "      <td>s8806</td>\n",
       "      <td>Movie</td>\n",
       "      <td>Zoom</td>\n",
       "      <td>Peter Hewitt</td>\n",
       "      <td>Tim Allen, Courteney Cox, Chevy Chase, Kate Ma...</td>\n",
       "      <td>United States</td>\n",
       "      <td>January 11, 2020</td>\n",
       "      <td>2006</td>\n",
       "      <td>PG</td>\n",
       "      <td>88 min</td>\n",
       "      <td>Children &amp; Family Movies, Comedies</td>\n",
       "      <td>Dragged from civilian life, a former superhero...</td>\n",
       "    </tr>\n",
       "    <tr>\n",
       "      <th>8806</th>\n",
       "      <td>s8807</td>\n",
       "      <td>Movie</td>\n",
       "      <td>Zubaan</td>\n",
       "      <td>Mozez Singh</td>\n",
       "      <td>Vicky Kaushal, Sarah-Jane Dias, Raaghav Chanan...</td>\n",
       "      <td>India</td>\n",
       "      <td>March 2, 2019</td>\n",
       "      <td>2015</td>\n",
       "      <td>TV-14</td>\n",
       "      <td>111 min</td>\n",
       "      <td>Dramas, International Movies, Music &amp; Musicals</td>\n",
       "      <td>A scrappy but poor boy worms his way into a ty...</td>\n",
       "    </tr>\n",
       "  </tbody>\n",
       "</table>\n",
       "<p>8807 rows × 12 columns</p>\n",
       "</div>"
      ],
      "text/plain": [
       "     show_id     type                  title         director  \\\n",
       "0         s1    Movie   Dick Johnson Is Dead  Kirsten Johnson   \n",
       "1         s2  TV Show          Blood & Water              NaN   \n",
       "2         s3  TV Show              Ganglands  Julien Leclercq   \n",
       "3         s4  TV Show  Jailbirds New Orleans              NaN   \n",
       "4         s5  TV Show           Kota Factory              NaN   \n",
       "...      ...      ...                    ...              ...   \n",
       "8802   s8803    Movie                 Zodiac    David Fincher   \n",
       "8803   s8804  TV Show            Zombie Dumb              NaN   \n",
       "8804   s8805    Movie             Zombieland  Ruben Fleischer   \n",
       "8805   s8806    Movie                   Zoom     Peter Hewitt   \n",
       "8806   s8807    Movie                 Zubaan      Mozez Singh   \n",
       "\n",
       "                                                   cast        country  \\\n",
       "0                                                   NaN  United States   \n",
       "1     Ama Qamata, Khosi Ngema, Gail Mabalane, Thaban...   South Africa   \n",
       "2     Sami Bouajila, Tracy Gotoas, Samuel Jouy, Nabi...            NaN   \n",
       "3                                                   NaN            NaN   \n",
       "4     Mayur More, Jitendra Kumar, Ranjan Raj, Alam K...          India   \n",
       "...                                                 ...            ...   \n",
       "8802  Mark Ruffalo, Jake Gyllenhaal, Robert Downey J...  United States   \n",
       "8803                                                NaN            NaN   \n",
       "8804  Jesse Eisenberg, Woody Harrelson, Emma Stone, ...  United States   \n",
       "8805  Tim Allen, Courteney Cox, Chevy Chase, Kate Ma...  United States   \n",
       "8806  Vicky Kaushal, Sarah-Jane Dias, Raaghav Chanan...          India   \n",
       "\n",
       "              date_added  release_year rating   duration  \\\n",
       "0     September 25, 2021          2020  PG-13     90 min   \n",
       "1     September 24, 2021          2021  TV-MA  2 Seasons   \n",
       "2     September 24, 2021          2021  TV-MA   1 Season   \n",
       "3     September 24, 2021          2021  TV-MA   1 Season   \n",
       "4     September 24, 2021          2021  TV-MA  2 Seasons   \n",
       "...                  ...           ...    ...        ...   \n",
       "8802   November 20, 2019          2007      R    158 min   \n",
       "8803        July 1, 2019          2018  TV-Y7  2 Seasons   \n",
       "8804    November 1, 2019          2009      R     88 min   \n",
       "8805    January 11, 2020          2006     PG     88 min   \n",
       "8806       March 2, 2019          2015  TV-14    111 min   \n",
       "\n",
       "                                              listed_in  \\\n",
       "0                                         Documentaries   \n",
       "1       International TV Shows, TV Dramas, TV Mysteries   \n",
       "2     Crime TV Shows, International TV Shows, TV Act...   \n",
       "3                                Docuseries, Reality TV   \n",
       "4     International TV Shows, Romantic TV Shows, TV ...   \n",
       "...                                                 ...   \n",
       "8802                     Cult Movies, Dramas, Thrillers   \n",
       "8803             Kids' TV, Korean TV Shows, TV Comedies   \n",
       "8804                            Comedies, Horror Movies   \n",
       "8805                 Children & Family Movies, Comedies   \n",
       "8806     Dramas, International Movies, Music & Musicals   \n",
       "\n",
       "                                            description  \n",
       "0     As her father nears the end of his life, filmm...  \n",
       "1     After crossing paths at a party, a Cape Town t...  \n",
       "2     To protect his family from a powerful drug lor...  \n",
       "3     Feuds, flirtations and toilet talk go down amo...  \n",
       "4     In a city of coaching centers known to train I...  \n",
       "...                                                 ...  \n",
       "8802  A political cartoonist, a crime reporter and a...  \n",
       "8803  While living alone in a spooky town, a young g...  \n",
       "8804  Looking to survive in a world taken over by zo...  \n",
       "8805  Dragged from civilian life, a former superhero...  \n",
       "8806  A scrappy but poor boy worms his way into a ty...  \n",
       "\n",
       "[8807 rows x 12 columns]"
      ]
     },
     "execution_count": 2,
     "metadata": {},
     "output_type": "execute_result"
    }
   ],
   "source": [
    "df = pd.read_csv(\"/kaggle/input/dataset/netflix_titles (3).csv\")\n",
    "df\n"
   ]
  },
  {
   "cell_type": "markdown",
   "id": "c4594f11",
   "metadata": {
    "papermill": {
     "duration": 0.007315,
     "end_time": "2023-05-23T14:46:20.935588",
     "exception": false,
     "start_time": "2023-05-23T14:46:20.928273",
     "status": "completed"
    },
    "tags": []
   },
   "source": [
    "**First five heads of dataset**"
   ]
  },
  {
   "cell_type": "code",
   "execution_count": 3,
   "id": "93cb38d9",
   "metadata": {
    "execution": {
     "iopub.execute_input": "2023-05-23T14:46:20.952618Z",
     "iopub.status.busy": "2023-05-23T14:46:20.952036Z",
     "iopub.status.idle": "2023-05-23T14:46:20.969367Z",
     "shell.execute_reply": "2023-05-23T14:46:20.968362Z"
    },
    "papermill": {
     "duration": 0.028502,
     "end_time": "2023-05-23T14:46:20.971630",
     "exception": false,
     "start_time": "2023-05-23T14:46:20.943128",
     "status": "completed"
    },
    "tags": []
   },
   "outputs": [
    {
     "data": {
      "text/html": [
       "<div>\n",
       "<style scoped>\n",
       "    .dataframe tbody tr th:only-of-type {\n",
       "        vertical-align: middle;\n",
       "    }\n",
       "\n",
       "    .dataframe tbody tr th {\n",
       "        vertical-align: top;\n",
       "    }\n",
       "\n",
       "    .dataframe thead th {\n",
       "        text-align: right;\n",
       "    }\n",
       "</style>\n",
       "<table border=\"1\" class=\"dataframe\">\n",
       "  <thead>\n",
       "    <tr style=\"text-align: right;\">\n",
       "      <th></th>\n",
       "      <th>show_id</th>\n",
       "      <th>type</th>\n",
       "      <th>title</th>\n",
       "      <th>director</th>\n",
       "      <th>cast</th>\n",
       "      <th>country</th>\n",
       "      <th>date_added</th>\n",
       "      <th>release_year</th>\n",
       "      <th>rating</th>\n",
       "      <th>duration</th>\n",
       "      <th>listed_in</th>\n",
       "      <th>description</th>\n",
       "    </tr>\n",
       "  </thead>\n",
       "  <tbody>\n",
       "    <tr>\n",
       "      <th>0</th>\n",
       "      <td>s1</td>\n",
       "      <td>Movie</td>\n",
       "      <td>Dick Johnson Is Dead</td>\n",
       "      <td>Kirsten Johnson</td>\n",
       "      <td>NaN</td>\n",
       "      <td>United States</td>\n",
       "      <td>September 25, 2021</td>\n",
       "      <td>2020</td>\n",
       "      <td>PG-13</td>\n",
       "      <td>90 min</td>\n",
       "      <td>Documentaries</td>\n",
       "      <td>As her father nears the end of his life, filmm...</td>\n",
       "    </tr>\n",
       "    <tr>\n",
       "      <th>1</th>\n",
       "      <td>s2</td>\n",
       "      <td>TV Show</td>\n",
       "      <td>Blood &amp; Water</td>\n",
       "      <td>NaN</td>\n",
       "      <td>Ama Qamata, Khosi Ngema, Gail Mabalane, Thaban...</td>\n",
       "      <td>South Africa</td>\n",
       "      <td>September 24, 2021</td>\n",
       "      <td>2021</td>\n",
       "      <td>TV-MA</td>\n",
       "      <td>2 Seasons</td>\n",
       "      <td>International TV Shows, TV Dramas, TV Mysteries</td>\n",
       "      <td>After crossing paths at a party, a Cape Town t...</td>\n",
       "    </tr>\n",
       "    <tr>\n",
       "      <th>2</th>\n",
       "      <td>s3</td>\n",
       "      <td>TV Show</td>\n",
       "      <td>Ganglands</td>\n",
       "      <td>Julien Leclercq</td>\n",
       "      <td>Sami Bouajila, Tracy Gotoas, Samuel Jouy, Nabi...</td>\n",
       "      <td>NaN</td>\n",
       "      <td>September 24, 2021</td>\n",
       "      <td>2021</td>\n",
       "      <td>TV-MA</td>\n",
       "      <td>1 Season</td>\n",
       "      <td>Crime TV Shows, International TV Shows, TV Act...</td>\n",
       "      <td>To protect his family from a powerful drug lor...</td>\n",
       "    </tr>\n",
       "    <tr>\n",
       "      <th>3</th>\n",
       "      <td>s4</td>\n",
       "      <td>TV Show</td>\n",
       "      <td>Jailbirds New Orleans</td>\n",
       "      <td>NaN</td>\n",
       "      <td>NaN</td>\n",
       "      <td>NaN</td>\n",
       "      <td>September 24, 2021</td>\n",
       "      <td>2021</td>\n",
       "      <td>TV-MA</td>\n",
       "      <td>1 Season</td>\n",
       "      <td>Docuseries, Reality TV</td>\n",
       "      <td>Feuds, flirtations and toilet talk go down amo...</td>\n",
       "    </tr>\n",
       "    <tr>\n",
       "      <th>4</th>\n",
       "      <td>s5</td>\n",
       "      <td>TV Show</td>\n",
       "      <td>Kota Factory</td>\n",
       "      <td>NaN</td>\n",
       "      <td>Mayur More, Jitendra Kumar, Ranjan Raj, Alam K...</td>\n",
       "      <td>India</td>\n",
       "      <td>September 24, 2021</td>\n",
       "      <td>2021</td>\n",
       "      <td>TV-MA</td>\n",
       "      <td>2 Seasons</td>\n",
       "      <td>International TV Shows, Romantic TV Shows, TV ...</td>\n",
       "      <td>In a city of coaching centers known to train I...</td>\n",
       "    </tr>\n",
       "  </tbody>\n",
       "</table>\n",
       "</div>"
      ],
      "text/plain": [
       "  show_id     type                  title         director  \\\n",
       "0      s1    Movie   Dick Johnson Is Dead  Kirsten Johnson   \n",
       "1      s2  TV Show          Blood & Water              NaN   \n",
       "2      s3  TV Show              Ganglands  Julien Leclercq   \n",
       "3      s4  TV Show  Jailbirds New Orleans              NaN   \n",
       "4      s5  TV Show           Kota Factory              NaN   \n",
       "\n",
       "                                                cast        country  \\\n",
       "0                                                NaN  United States   \n",
       "1  Ama Qamata, Khosi Ngema, Gail Mabalane, Thaban...   South Africa   \n",
       "2  Sami Bouajila, Tracy Gotoas, Samuel Jouy, Nabi...            NaN   \n",
       "3                                                NaN            NaN   \n",
       "4  Mayur More, Jitendra Kumar, Ranjan Raj, Alam K...          India   \n",
       "\n",
       "           date_added  release_year rating   duration  \\\n",
       "0  September 25, 2021          2020  PG-13     90 min   \n",
       "1  September 24, 2021          2021  TV-MA  2 Seasons   \n",
       "2  September 24, 2021          2021  TV-MA   1 Season   \n",
       "3  September 24, 2021          2021  TV-MA   1 Season   \n",
       "4  September 24, 2021          2021  TV-MA  2 Seasons   \n",
       "\n",
       "                                           listed_in  \\\n",
       "0                                      Documentaries   \n",
       "1    International TV Shows, TV Dramas, TV Mysteries   \n",
       "2  Crime TV Shows, International TV Shows, TV Act...   \n",
       "3                             Docuseries, Reality TV   \n",
       "4  International TV Shows, Romantic TV Shows, TV ...   \n",
       "\n",
       "                                         description  \n",
       "0  As her father nears the end of his life, filmm...  \n",
       "1  After crossing paths at a party, a Cape Town t...  \n",
       "2  To protect his family from a powerful drug lor...  \n",
       "3  Feuds, flirtations and toilet talk go down amo...  \n",
       "4  In a city of coaching centers known to train I...  "
      ]
     },
     "execution_count": 3,
     "metadata": {},
     "output_type": "execute_result"
    }
   ],
   "source": [
    "df.head()"
   ]
  },
  {
   "cell_type": "markdown",
   "id": "2d6f68b4",
   "metadata": {
    "papermill": {
     "duration": 0.007784,
     "end_time": "2023-05-23T14:46:20.987612",
     "exception": false,
     "start_time": "2023-05-23T14:46:20.979828",
     "status": "completed"
    },
    "tags": []
   },
   "source": [
    "**Given Columns in dataset**"
   ]
  },
  {
   "cell_type": "code",
   "execution_count": 4,
   "id": "2e54e615",
   "metadata": {
    "execution": {
     "iopub.execute_input": "2023-05-23T14:46:21.006345Z",
     "iopub.status.busy": "2023-05-23T14:46:21.005661Z",
     "iopub.status.idle": "2023-05-23T14:46:21.011633Z",
     "shell.execute_reply": "2023-05-23T14:46:21.010765Z"
    },
    "papermill": {
     "duration": 0.018193,
     "end_time": "2023-05-23T14:46:21.014126",
     "exception": false,
     "start_time": "2023-05-23T14:46:20.995933",
     "status": "completed"
    },
    "tags": []
   },
   "outputs": [
    {
     "data": {
      "text/plain": [
       "Index(['show_id', 'type', 'title', 'director', 'cast', 'country', 'date_added',\n",
       "       'release_year', 'rating', 'duration', 'listed_in', 'description'],\n",
       "      dtype='object')"
      ]
     },
     "execution_count": 4,
     "metadata": {},
     "output_type": "execute_result"
    }
   ],
   "source": [
    "df.columns"
   ]
  },
  {
   "cell_type": "markdown",
   "id": "49497a89",
   "metadata": {
    "papermill": {
     "duration": 0.007823,
     "end_time": "2023-05-23T14:46:21.031582",
     "exception": false,
     "start_time": "2023-05-23T14:46:21.023759",
     "status": "completed"
    },
    "tags": []
   },
   "source": [
    "**Check missing values in dataset**"
   ]
  },
  {
   "cell_type": "code",
   "execution_count": 5,
   "id": "3c209b44",
   "metadata": {
    "execution": {
     "iopub.execute_input": "2023-05-23T14:46:21.050350Z",
     "iopub.status.busy": "2023-05-23T14:46:21.049610Z",
     "iopub.status.idle": "2023-05-23T14:46:21.088412Z",
     "shell.execute_reply": "2023-05-23T14:46:21.086716Z"
    },
    "papermill": {
     "duration": 0.051489,
     "end_time": "2023-05-23T14:46:21.091254",
     "exception": false,
     "start_time": "2023-05-23T14:46:21.039765",
     "status": "completed"
    },
    "tags": []
   },
   "outputs": [
    {
     "name": "stdout",
     "output_type": "stream",
     "text": [
      "show_id            0\n",
      "type               0\n",
      "title              0\n",
      "director        2634\n",
      "cast             825\n",
      "country          831\n",
      "date_added        10\n",
      "release_year       0\n",
      "rating             4\n",
      "duration           3\n",
      "listed_in          0\n",
      "description        0\n",
      "dtype: int64\n"
     ]
    }
   ],
   "source": [
    "print(df.isnull().sum())"
   ]
  },
  {
   "cell_type": "markdown",
   "id": "c208568a",
   "metadata": {
    "papermill": {
     "duration": 0.007925,
     "end_time": "2023-05-23T14:46:21.107624",
     "exception": false,
     "start_time": "2023-05-23T14:46:21.099699",
     "status": "completed"
    },
    "tags": []
   },
   "source": [
    "**Drop irrelevant and duplicate columns from datset**"
   ]
  },
  {
   "cell_type": "code",
   "execution_count": 6,
   "id": "1cd93662",
   "metadata": {
    "execution": {
     "iopub.execute_input": "2023-05-23T14:46:21.125927Z",
     "iopub.status.busy": "2023-05-23T14:46:21.125518Z",
     "iopub.status.idle": "2023-05-23T14:46:21.164376Z",
     "shell.execute_reply": "2023-05-23T14:46:21.163230Z"
    },
    "papermill": {
     "duration": 0.051323,
     "end_time": "2023-05-23T14:46:21.167273",
     "exception": false,
     "start_time": "2023-05-23T14:46:21.115950",
     "status": "completed"
    },
    "tags": []
   },
   "outputs": [],
   "source": [
    "df = df.drop(columns=[\"show_id\", \"description\"])\n",
    "df = df.drop_duplicates()"
   ]
  },
  {
   "cell_type": "markdown",
   "id": "e9a753d8",
   "metadata": {
    "papermill": {
     "duration": 0.007853,
     "end_time": "2023-05-23T14:46:21.183462",
     "exception": false,
     "start_time": "2023-05-23T14:46:21.175609",
     "status": "completed"
    },
    "tags": []
   },
   "source": [
    "Explore data with **Bar Chart**"
   ]
  },
  {
   "cell_type": "code",
   "execution_count": 7,
   "id": "d772751d",
   "metadata": {
    "execution": {
     "iopub.execute_input": "2023-05-23T14:46:21.202417Z",
     "iopub.status.busy": "2023-05-23T14:46:21.202037Z",
     "iopub.status.idle": "2023-05-23T14:46:21.412738Z",
     "shell.execute_reply": "2023-05-23T14:46:21.411614Z"
    },
    "papermill": {
     "duration": 0.223701,
     "end_time": "2023-05-23T14:46:21.415292",
     "exception": false,
     "start_time": "2023-05-23T14:46:21.191591",
     "status": "completed"
    },
    "tags": []
   },
   "outputs": [
    {
     "name": "stdout",
     "output_type": "stream",
     "text": [
      "Movie      6131\n",
      "TV Show    2676\n",
      "Name: type, dtype: int64\n"
     ]
    },
    {
     "data": {
      "image/png": "[encoded data removed]",
      "text/plain": [
       "<Figure size 640x480 with 1 Axes>"
      ]
     },
     "metadata": {},
     "output_type": "display_data"
    }
   ],
   "source": [
    "print(df[\"type\"].value_counts())\n",
    "plt.bar([\"Movies\", \"TV Shows\"], df[\"type\"].value_counts())\n",
    "plt.show()"
   ]
  },
  {
   "cell_type": "markdown",
   "id": "c10087ac",
   "metadata": {
    "papermill": {
     "duration": 0.008407,
     "end_time": "2023-05-23T14:46:21.432399",
     "exception": false,
     "start_time": "2023-05-23T14:46:21.423992",
     "status": "completed"
    },
    "tags": []
   },
   "source": [
    "**Plot with yearly data of Movies and TV Shows**"
   ]
  },
  {
   "cell_type": "code",
   "execution_count": 8,
   "id": "d5519699",
   "metadata": {
    "execution": {
     "iopub.execute_input": "2023-05-23T14:46:21.451453Z",
     "iopub.status.busy": "2023-05-23T14:46:21.451070Z",
     "iopub.status.idle": "2023-05-23T14:46:21.924761Z",
     "shell.execute_reply": "2023-05-23T14:46:21.923654Z"
    },
    "papermill": {
     "duration": 0.486903,
     "end_time": "2023-05-23T14:46:21.927944",
     "exception": false,
     "start_time": "2023-05-23T14:46:21.441041",
     "status": "completed"
    },
    "tags": []
   },
   "outputs": [
    {
     "name": "stdout",
     "output_type": "stream",
     "text": [
      "2008.0       2\n",
      "2009.0       2\n",
      "2010.0       1\n",
      "2011.0      13\n",
      "2012.0       3\n",
      "2013.0      11\n",
      "2014.0      24\n",
      "2015.0      82\n",
      "2016.0     429\n",
      "2017.0    1188\n",
      "2018.0    1649\n",
      "2019.0    2016\n",
      "2020.0    1879\n",
      "2021.0    1498\n",
      "Name: year_added, dtype: int64\n"
     ]
    },
    {
     "data": {
      "image/png": "[encoded data removed]",
      "text/plain": [
       "<Figure size 640x480 with 1 Axes>"
      ]
     },
     "metadata": {},
     "output_type": "display_data"
    }
   ],
   "source": [
    "df[\"year_added\"] = pd.to_datetime(df[\"date_added\"]).dt.year\n",
    "print(df[\"year_added\"].value_counts().sort_index())\n",
    "plt.plot(df[\"year_added\"].value_counts().sort_index())\n",
    "plt.show()"
   ]
  },
  {
   "cell_type": "markdown",
   "id": "e7c91fa7",
   "metadata": {
    "papermill": {
     "duration": 0.008949,
     "end_time": "2023-05-23T14:46:21.946373",
     "exception": false,
     "start_time": "2023-05-23T14:46:21.937424",
     "status": "completed"
    },
    "tags": []
   },
   "source": [
    "Analyze genres with **Pie Chart**"
   ]
  },
  {
   "cell_type": "code",
   "execution_count": 9,
   "id": "09d45126",
   "metadata": {
    "execution": {
     "iopub.execute_input": "2023-05-23T14:46:21.967389Z",
     "iopub.status.busy": "2023-05-23T14:46:21.966797Z",
     "iopub.status.idle": "2023-05-23T14:46:22.239381Z",
     "shell.execute_reply": "2023-05-23T14:46:22.237665Z"
    },
    "papermill": {
     "duration": 0.287884,
     "end_time": "2023-05-23T14:46:22.243930",
     "exception": false,
     "start_time": "2023-05-23T14:46:21.956046",
     "status": "completed"
    },
    "tags": []
   },
   "outputs": [
    {
     "name": "stdout",
     "output_type": "stream",
     "text": [
      "International Movies        2752\n",
      "Dramas                      2427\n",
      "Comedies                    1674\n",
      "International TV Shows      1351\n",
      "Documentaries                869\n",
      "Action & Adventure           859\n",
      "TV Dramas                    763\n",
      "Independent Movies           756\n",
      "Children & Family Movies     641\n",
      "Romantic Movies              616\n",
      "dtype: int64\n"
     ]
    },
    {
     "data": {
      "image/png": "[encoded data removed]",
      "text/plain": [
       "<Figure size 640x480 with 1 Axes>"
      ]
     },
     "metadata": {},
     "output_type": "display_data"
    }
   ],
   "source": [
    "genre_counts = df[\"listed_in\"].str.split(\", \", expand=True).stack().value_counts()\n",
    "top_genres = genre_counts.head(10)\n",
    "print(top_genres)\n",
    "plt.pie(top_genres, labels=top_genres.index)\n",
    "plt.show()"
   ]
  },
  {
   "cell_type": "markdown",
   "id": "d5760bc8",
   "metadata": {
    "papermill": {
     "duration": 0.010021,
     "end_time": "2023-05-23T14:46:22.271325",
     "exception": false,
     "start_time": "2023-05-23T14:46:22.261304",
     "status": "completed"
    },
    "tags": []
   },
   "source": [
    "Analyze ratings with **Histogram**"
   ]
  },
  {
   "cell_type": "code",
   "execution_count": 10,
   "id": "4ae15998",
   "metadata": {
    "execution": {
     "iopub.execute_input": "2023-05-23T14:46:22.294069Z",
     "iopub.status.busy": "2023-05-23T14:46:22.293639Z",
     "iopub.status.idle": "2023-05-23T14:46:22.572212Z",
     "shell.execute_reply": "2023-05-23T14:46:22.571258Z"
    },
    "papermill": {
     "duration": 0.293115,
     "end_time": "2023-05-23T14:46:22.574713",
     "exception": false,
     "start_time": "2023-05-23T14:46:22.281598",
     "status": "completed"
    },
    "tags": []
   },
   "outputs": [
    {
     "data": {
      "image/png": "[encoded data removed]",
      "text/plain": [
       "<Figure size 640x480 with 1 Axes>"
      ]
     },
     "metadata": {},
     "output_type": "display_data"
    }
   ],
   "source": [
    "ratings = df[\"rating\"].dropna()\n",
    "plt.hist(ratings)\n",
    "plt.show()"
   ]
  },
  {
   "cell_type": "markdown",
   "id": "3bb5e6d7",
   "metadata": {
    "papermill": {
     "duration": 0.01058,
     "end_time": "2023-05-23T14:46:22.596200",
     "exception": false,
     "start_time": "2023-05-23T14:46:22.585620",
     "status": "completed"
    },
    "tags": []
   },
   "source": [
    "Shown counts of yearly TV Shows and Movies with **Heatmap**"
   ]
  },
  {
   "cell_type": "code",
   "execution_count": 11,
   "id": "8401a96c",
   "metadata": {
    "execution": {
     "iopub.execute_input": "2023-05-23T14:46:22.620342Z",
     "iopub.status.busy": "2023-05-23T14:46:22.619634Z",
     "iopub.status.idle": "2023-05-23T14:46:23.112388Z",
     "shell.execute_reply": "2023-05-23T14:46:23.111194Z"
    },
    "papermill": {
     "duration": 0.507919,
     "end_time": "2023-05-23T14:46:23.114840",
     "exception": false,
     "start_time": "2023-05-23T14:46:22.606921",
     "status": "completed"
    },
    "tags": []
   },
   "outputs": [
    {
     "data": {
      "image/png": "[encoded data removed]",
      "text/plain": [
       "<Figure size 1000x600 with 2 Axes>"
      ]
     },
     "metadata": {},
     "output_type": "display_data"
    }
   ],
   "source": [
    "plt.figure(figsize=(10, 6))\n",
    "year_type_counts = df.groupby([\"year_added\", \"type\"]).size().unstack().fillna(0).astype(int)\n",
    "sns.heatmap(year_type_counts, cmap=\"YlGnBu\", annot=True, fmt=\"d\", cbar=True)\n",
    "plt.title(\"Number of TV Shows and Movies Added Each Year\")\n",
    "plt.xlabel(\"Type\")\n",
    "plt.ylabel(\"Year\")\n",
    "plt.show()"
   ]
  },
  {
   "cell_type": "markdown",
   "id": "9166cb05",
   "metadata": {
    "papermill": {
     "duration": 0.011436,
     "end_time": "2023-05-23T14:46:23.138380",
     "exception": false,
     "start_time": "2023-05-23T14:46:23.126944",
     "status": "completed"
    },
    "tags": []
   },
   "source": [
    "**Conclusion**"
   ]
  },
  {
   "cell_type": "markdown",
   "id": "1c29444b",
   "metadata": {
    "papermill": {
     "duration": 0.011246,
     "end_time": "2023-05-23T14:46:23.161305",
     "exception": false,
     "start_time": "2023-05-23T14:46:23.150059",
     "status": "completed"
    },
    "tags": []
   },
   "source": [
    "🔸Here more viewer of Movies\n",
    "\n",
    "🔸Highest duration is 1 Season\n",
    "\n",
    "🔸Mostly People interested in International Movies\n",
    "\n",
    "🔸In 2019 more movies added compare to another years\n",
    "\n",
    "🔸In 2020 more TV Shows added compare to another years"
   ]
  }
 ],
 "metadata": {
  "kernelspec": {
   "display_name": "Python 3",
   "language": "python",
   "name": "python3"
  },
  "language_info": {
   "codemirror_mode": {
    "name": "ipython",
    "version": 3
   },
   "file_extension": ".py",
   "mimetype": "text/x-python",
   "name": "python",
   "nbconvert_exporter": "python",
   "pygments_lexer": "ipython3",
   "version": "3.10.10"
  },
  "papermill": {
   "default_parameters": {},
   "duration": 17.631306,
   "end_time": "2023-05-23T14:46:24.195353",
   "environment_variables": {},
   "exception": null,
   "input_path": "__notebook__.ipynb",
   "output_path": "__notebook__.ipynb",
   "parameters": {},
   "start_time": "2023-05-23T14:46:06.564047",
   "version": "2.4.0"
  }
 },
 "nbformat": 4,
 "nbformat_minor": 5
}
